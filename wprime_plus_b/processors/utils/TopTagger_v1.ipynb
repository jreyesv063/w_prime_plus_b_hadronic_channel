{
 "cells": [
  {
   "cell_type": "code",
   "execution_count": 20,
   "id": "e698cbc6-411f-4b23-854d-8a680f06cf5d",
   "metadata": {
    "tags": []
   },
   "outputs": [],
   "source": [
    "import numpy as np\n",
    "import awkward as ak\n",
    "import json\n",
    "import hist\n",
    "import matplotlib.pyplot as plt\n",
    "from coffea.nanoevents import NanoEventsFactory, NanoAODSchema\n",
    "from analysis_utils import chi2_test, delta_r_mask, entries, true_sum, topTagger_mask\n",
    "from coffea.nanoevents import NanoEventsFactory, NanoAODSchema"
   ]
  },
  {
   "cell_type": "code",
   "execution_count": 39,
   "id": "2841e667-4ade-470d-be2b-f886546eb2c0",
   "metadata": {
    "tags": []
   },
   "outputs": [],
   "source": [
    "class topXfinder:\n",
    "    def __init__(\n",
    "        self,\n",
    "        year: str = \"2017\",\n",
    "        year_mod: str = \"\",\n",
    "        b_wp: str = \"M\",\n",
    "    ) -> None:\n",
    "        \n",
    "       \n",
    "        # year\n",
    "        self.year = year\n",
    "        self.year_mod = year_mod\n",
    "        self._btag_wp = b_wp\n",
    "        \n",
    "\n",
    "        \n",
    "    ######################################\n",
    "    #########  1 Jet #####################\n",
    "    ######################################\n",
    "    # ----------------------------------------\n",
    "    #  Scenario I (FatJet = 1)\n",
    "    # ----------------------------------------\n",
    "    def Scenario_I(self, tops, top_low_mass, top_up_mass):\n",
    "\n",
    "        jet_top = tops.mask[ak.num(tops) == 1]\n",
    "\n",
    "        good_top_mass = (\n",
    "            (jet_top.mass > top_low_mass) & \n",
    "            (jet_top.mass < top_up_mass)\n",
    "        )\n",
    "\n",
    "        \n",
    "        top_scenario_I = jet_top.mask[good_top_mass]  \n",
    "        mask_scenario_I = ak.fill_none(ak.firsts(good_top_mass), False)\n",
    "\n",
    "\n",
    "        print(\"Top tagger_mask_I (True): \", ak.sum(mask_scenario_I))\n",
    "\n",
    "        \n",
    "        return top_scenario_I, mask_scenario_I\n",
    "    \n",
    "    \n",
    "    ######################################\n",
    "    #########  2 Jet #####################\n",
    "    ######################################\n",
    "        \n",
    "    # ----------------------------------------\n",
    "    #  Scenario II (FatJet = 1  + b = 1)\n",
    "    # ----------------------------------------\n",
    "    def Scenario_II(self, tops, bjets, \n",
    "                    top_low_mass, top_up_mass):\n",
    "        \n",
    "        jet_top = tops.mask[ak.num(tops) == 1]\n",
    "        jet_b = bjets.mask[ak.num(bjets) == 1]\n",
    "          \n",
    "\n",
    "        good_top_mass = (\n",
    "            (jet_top.mass > top_low_mass) & \n",
    "            (jet_top.mass < top_up_mass) & \n",
    "            (delta_r_mask(jet_top, jet_b, threshold=0.8))\n",
    "        )    \n",
    "\n",
    "    \n",
    "        top_scenario_II = jet_top.mask[good_top_mass]\n",
    "        mask_scenario_II = ak.fill_none(ak.firsts(good_top_mass), False)\n",
    "\n",
    "        print(\"Top tagger_mask_II (True): \", ak.sum(mask_scenario_II))\n",
    "        \n",
    "        \n",
    "        return top_scenario_II, mask_scenario_II\n",
    "    \n",
    "    # ----------------------------------------\n",
    "    #  Scenario III (W = 1  + b = 1)\n",
    "    # ----------------------------------------\n",
    "    def Scenario_III(self, wjets, bjets, \n",
    "                     top_sigma, top_low_mass, top_up_mass, top_pdg, \n",
    "                     w_sigma, w_low_mass, w_up_mass, w_pdg, \n",
    "                     chi2):\n",
    "        \n",
    "        jet_b = bjets.mask[ak.num(bjets) == 1]\n",
    "        jet_w = wjets.mask[ak.num(wjets) == 1]\n",
    "       \n",
    "\n",
    "        good_w_mass = (\n",
    "            (jet_w.mass > top_low_mass) &\n",
    "            (jet_w.mass < top_up_mass)  &\n",
    "            (delta_r_mask(jet_b, jet_w, threshold=0.8))\n",
    "        )\n",
    "\n",
    "        jet_top = jet_w.mask[good_w_mass] + jet_b\n",
    "    \n",
    "    \n",
    "        good_top_mass = (\n",
    "            (jet_top.mass >  w_low_mass) &\n",
    "            (jet_top.mass < w_up_mass)\n",
    "        )    \n",
    "    \n",
    "        tops = jet_top.mask[good_top_mass]\n",
    "        w = jet_top.mask[good_top_mass]\n",
    "        \n",
    "        # ----------------------\n",
    "        # chi2 criteria\n",
    "        # ----------------------\n",
    "        chi2_cal = chi2_test(tops,  w, \n",
    "                            top_sigma, \n",
    "                            w_sigma, \n",
    "                            top_pdg, \n",
    "                            w_pdg)\n",
    "\n",
    "        good_chi2 = (chi2_cal < chi2)\n",
    "            \n",
    "            \n",
    "        top_scenario_III = tops.mask[good_chi2]\n",
    "        mask_scenario_III = ak.fill_none(ak.firsts(good_chi2), False) \n",
    "    \n",
    "\n",
    "        print(\"Top tagger_mask_III (True): \", ak.sum(mask_scenario_III))\n",
    "        \n",
    "        return top_scenario_III, mask_scenario_III  \n",
    "    \n",
    "    \n",
    "    # ----------------------------------------\n",
    "    #  Scenario IV (W = 1  + b = 1)\n",
    "    # ----------------------------------------              \n",
    "    def Scenario_IV(self, wjets, bjets,\n",
    "                    top_low_mass, top_up_mass,\n",
    "                    w_low_mass, w_up_mass\n",
    "                   ):\n",
    "        jet_b = bjets.mask[ak.num(bjets) == 1]\n",
    "        jet_w = wjets.mask[ak.num(wjets) == 1]\n",
    "       \n",
    "\n",
    "        good_w_mass = (\n",
    "            (jet_w.mass > w_low_mass) &\n",
    "            (jet_w.mass < w_up_mass)  &\n",
    "            (delta_r_mask(jet_b, jet_w, threshold=0.8))\n",
    "        )\n",
    "\n",
    "        jet_top = jet_w.mask[good_w_mass] + jet_b\n",
    "    \n",
    "    \n",
    "        good_top_mass = (\n",
    "            (jet_top.mass > top_low_mass) &\n",
    "            (jet_top.mass < top_up_mass)\n",
    "        )    \n",
    "    \n",
    "            \n",
    "        \"\"\"\n",
    "        We want to invert the filter of the mass of the top so as not to overwrite events of scenario 3.\n",
    "        We do not apply chi2 since we cannot reconstruct the top.\n",
    "            \n",
    "        \"\"\"\n",
    "\n",
    "        top_scenario_IV = jet_top.mask[~good_top_mass]\n",
    "        mask_scenario_IV = ak.fill_none(ak.firsts(~good_top_mass), False) # The mask has been inverted\n",
    "    \n",
    "\n",
    "        print(\"Top tagger_mask_IV (True): \", ak.sum(mask_scenario_IV))\n",
    "        \n",
    "        return top_scenario_IV, mask_scenario_IV  \n",
    "\n",
    "    \n",
    "    \n",
    "    ######################################\n",
    "    #########  3 Jet #####################\n",
    "    ######################################\n",
    "        \n",
    "    # ----------------------------------------\n",
    "    #  Scenario V (W = 1  +  b = 2)\n",
    "    # ----------------------------------------\n",
    "    def Scenario_V(self, bjets, wjets,\n",
    "                    top_sigma, top_low_mass, top_up_mass, top_pdg, \n",
    "                     w_sigma, w_low_mass, w_up_mass, w_pdg, \n",
    "                     chi2):\n",
    "        \n",
    "        \n",
    "        jet_b = bjets.mask[ak.num(bjets) == 2]\n",
    "        jet_w = wjets.mask[ak.num(wjets) == 1]\n",
    "            \n",
    " \n",
    "        jet_b1 = ak.pad_none(jet_b, 2)[:, 0]\n",
    "        jet_b2 = ak.pad_none(jet_b, 2)[:, 1]\n",
    "            \n",
    "            \n",
    "        # Cross cleaning bjets\n",
    "        cross_cleaning = (jet_b2.delta_r(jet_b1) > 0.8)\n",
    "\n",
    "        b1_cc = jet_b1.mask[cross_cleaning]            \n",
    "        b2_cc = jet_b2.mask[cross_cleaning]\n",
    "\n",
    "        \n",
    "        \n",
    "        good_w_mass = (\n",
    "            (jet_w.mass > w_low_mass) &\n",
    "            (jet_w.mass < w_up_mass) &\n",
    "            (delta_r_mask(jet_b1, jet_w, threshold=0.8)) &\n",
    "            (delta_r_mask(jet_b2, jet_w, threshold=0.8))\n",
    "        )\n",
    "            \n",
    "        w = jet_w.mask[good_w_mass]\n",
    "   \n",
    "\n",
    "        top = ak.where(((w + b1_cc).mass > top_low_mass) & ((w + b1_cc).mass < top_up_mass),\n",
    "                       w + b1_cc,\n",
    "                       w + b2_cc)\n",
    "\n",
    "            \n",
    "        # ----------------------\n",
    "        # chi2 criteria\n",
    "        # ----------------------\n",
    "        chi2_cal = chi2_test(top, w,\n",
    "                                top_sigma, \n",
    "                                w_sigma, \n",
    "                                top_pdg, \n",
    "                                w_pdg)\n",
    "            \n",
    "        good_chi2 = (chi2_cal < chi2)\n",
    "            \n",
    "            \n",
    "        top_scenario_V = top.mask[good_chi2]\n",
    "        mask_scenario_V = ak.fill_none(ak.firsts(good_chi2), False)\n",
    "  \n",
    "\n",
    "        print(\"Top tagger_mask_V (True): \", ak.sum(mask_scenario_V))\n",
    "    \n",
    "        return top_scenario_V, mask_scenario_V\n",
    "    \n",
    "    \n",
    "   # ----------------------------------------\n",
    "    #  Scenario VI (b = 1  + light_jets = 2)\n",
    "    # ----------------------------------------\n",
    "    def Scenario_VI(self, jets,\n",
    "                    top_sigma, top_low_mass, top_up_mass, top_pdg, \n",
    "                     w_sigma, w_low_mass, w_up_mass, w_pdg, \n",
    "                     chi2, btag_wp):\n",
    "        \n",
    "        multi_jets = jets.mask[ak.num(jets) == 3]\n",
    "            \n",
    "        trijet = ak.combinations(multi_jets, 3, fields=[\"j1\", \"j2\", \"j3\"])\n",
    "            \n",
    "        # Cross cleaning\n",
    "        cross_cleaning = (\n",
    "            (trijet.j1.delta_r(trijet.j2) > 0.8) &\n",
    "            (trijet.j1.delta_r(trijet.j3) > 0.8) &\n",
    "            (trijet.j2.delta_r(trijet.j3) > 0.8)\n",
    "        )\n",
    "\n",
    "        trijet = trijet.mask[cross_cleaning]\n",
    "            \n",
    "        dijet = trijet.j1 + trijet.j2\n",
    "        trijet[\"p4\"] = dijet + trijet.j3\n",
    "            \n",
    "               \n",
    "        \"\"\"\n",
    "        We identify the maximum b_wp of the jets, so \n",
    "        we can guarantee that at least one of the 3 jets can be considered a b-jet.\n",
    "            \n",
    "        \"\"\"\n",
    "        trijet[\"max_btag\"] = np.maximum(trijet.j1.btagDeepFlavB,\n",
    "                                        np.maximum(trijet.j2.btagDeepFlavB, \n",
    "                                                    trijet.j3.btagDeepFlavB),\n",
    "        )\n",
    "        \n",
    "        # at least one-btag in bjj candidates\n",
    "        #trijet = trijet[trijet.max_btag > btag_wp]\n",
    "            \n",
    "            \n",
    "            \n",
    "        # w (jj) candidates mass\n",
    "        dijet = ak.where(\n",
    "                trijet.j1.btagDeepFlavB > btag_wp,             # Condition 1\n",
    "                trijet.j2 + trijet.j3,                         # True\n",
    "                (ak.where(trijet.j2.btagDeepFlavB > self._btag_wp,   # False: Condition 2\n",
    "                    trijet.j1 + trijet.j3,                     # True\n",
    "                    trijet.j1 + trijet.j2,                     # False\n",
    "                        )\n",
    "                ),\n",
    "        )\n",
    "\n",
    "    \n",
    "        good_w_mass = (\n",
    "            (dijet.mass > w_low_mass) &\n",
    "            (dijet.mass < w_up_mass)\n",
    "        )  \n",
    "        \n",
    "        jet_w = dijet.mask[good_w_mass]\n",
    "        jet_top = trijet[\"p4\"].mask[good_w_mass]\n",
    "        \n",
    "\n",
    "        good_top_mass = (\n",
    "            (jet_top.mass > top_low_mass) &\n",
    "            (jet_top.mass < top_up_mass)\n",
    "        )  \n",
    "        \n",
    "        tops = jet_top.mask[good_top_mass]\n",
    "        w = jet_w.mask[good_top_mass]\n",
    "            \n",
    "            \n",
    "        # ----------------------\n",
    "        # chi2 criteria\n",
    "        # ----------------------\n",
    "        chi2_cal = chi2_test(tops,  w, \n",
    "                            top_sigma, \n",
    "                            w_sigma, \n",
    "                            top_pdg, \n",
    "                            w_pdg)          \n",
    "            \n",
    "            \n",
    "        good_chi2 = (chi2_cal < chi2)\n",
    "            \n",
    "            \n",
    "        top_scenario_VI = ak.mask(tops,good_chi2)\n",
    "        mask_scenario_VI = ak.fill_none(ak.any(good_chi2, axis = 1), False) \n",
    "        \n",
    "  \n",
    "        print(\"Top tagger_mask_VI (True): \", ak.sum(mask_scenario_VI), mask_scenario_VI.ndim)\n",
    "    \n",
    "        return top_scenario_VI, mask_scenario_VI\n",
    "    \n",
    "    \n",
    "    # ----------------------------------------\n",
    "    #  Scenario VII (b = 1  + light_jets = 2)\n",
    "    # ----------------------------------------\n",
    "    def Scenario_VII(self, jets,\n",
    "                    top_low_mass, top_up_mass,\n",
    "                    w_low_mass, w_up_mass,\n",
    "                    btag_wp):\n",
    "        \n",
    "        multi_jets = jets.mask[ak.num(jets) == 3]\n",
    "            \n",
    "        trijet = ak.combinations(multi_jets, 3, fields=[\"j1\", \"j2\", \"j3\"])\n",
    "            \n",
    "        # Cross cleaning\n",
    "        cross_cleaning = (\n",
    "            (trijet.j1.delta_r(trijet.j2) > 0.8) &\n",
    "            (trijet.j1.delta_r(trijet.j3) > 0.8) &\n",
    "            (trijet.j2.delta_r(trijet.j3) > 0.8)\n",
    "        )\n",
    "\n",
    "        trijet = trijet.mask[cross_cleaning]\n",
    "            \n",
    "        dijet = trijet.j1 + trijet.j2\n",
    "        trijet[\"p4\"] = dijet + trijet.j3\n",
    "            \n",
    "               \n",
    "        \"\"\"\n",
    "        We identify the maximum b_wp of the jets, so \n",
    "        we can guarantee that at least one of the 3 jets can be considered a b-jet.\n",
    "            \n",
    "        \"\"\"\n",
    "        trijet[\"max_btag\"] = np.maximum(trijet.j1.btagDeepFlavB,\n",
    "                                        np.maximum(trijet.j2.btagDeepFlavB, \n",
    "                                                    trijet.j3.btagDeepFlavB),\n",
    "        )\n",
    "        \n",
    "        # at least one-btag in bjj candidates\n",
    "        #trijet = trijet[trijet.max_btag > btag_wp]\n",
    "            \n",
    "        # We verify that there are no more b-jets\n",
    "            \n",
    "            \n",
    "        # w (jj) candidates mass\n",
    "        dijet = ak.where(\n",
    "                trijet.j1.btagDeepFlavB > btag_wp,             # Condition 1\n",
    "                trijet.j2 + trijet.j3,                         # True\n",
    "                (ak.where(trijet.j2.btagDeepFlavB > btag_wp,   # False: Condition 2\n",
    "                    trijet.j1 + trijet.j3,                     # True\n",
    "                    trijet.j1 + trijet.j2,                     # False\n",
    "                        )\n",
    "                ),\n",
    "        )\n",
    "       \n",
    "    \n",
    "        good_w_mass = (\n",
    "            (dijet.mass > w_low_mass) &\n",
    "            (dijet.mass < w_up_mass)\n",
    "        )  \n",
    "                    \n",
    "            \n",
    "        jet_w = dijet.mask[good_w_mass]\n",
    "        jet_top = trijet[\"p4\"].mask[good_w_mass]\n",
    "        \n",
    "\n",
    "        good_top_mass = (\n",
    "            (jet_top.mass > top_low_mass) &\n",
    "            (jet_top.mass < top_up_mass)\n",
    "        )  \n",
    "            \n",
    "            \n",
    "        top_scenario_VII = jet_top.mask[~good_top_mass]\n",
    "        mask_scenario_VII = ak.fill_none(ak.firsts(~good_top_mass), False) # The mask has been inverted\n",
    "    \n",
    "    \n",
    "        print(\"Top tagger_mask_VII (True): \", ak.sum(mask_scenario_VII))\n",
    "        \n",
    "        return top_scenario_VII, mask_scenario_VII\n",
    "    \n",
    "    \n",
    "    \n",
    "    ######################################\n",
    "    #########  4 Jet #####################\n",
    "    ######################################\n",
    "        \n",
    "    # ----------------------------------------\n",
    "    #  Scenario IX (b=2  + light_jets = 2)\n",
    "    # ----------------------------------------        \n",
    "    def Scenario_IX(self, jets,\n",
    "                      top_sigma, top_low_mass, top_up_mass, top_pdg,\n",
    "                      w_sigma, w_low_mass, w_up_mass, w_pdg,\n",
    "                      chi2, btag_wp):\n",
    "\n",
    "\n",
    "        multi_jets = jets.mask[ak.num(jets) == 4]\n",
    "\n",
    "\n",
    "        trijet = ak.combinations(multi_jets, 3, fields=[\"j1\", \"j2\", \"j3\"])\n",
    "\n",
    "        # -------------------------------------------\n",
    "        # Cross cleaning\n",
    "        cross_cleaning = (\n",
    "                (trijet.j1.delta_r(trijet.j2) > 0.8)\n",
    "                & (trijet.j1.delta_r(trijet.j3) > 0.8)\n",
    "                & (trijet.j2.delta_r(trijet.j3) > 0.8)\n",
    "                & (trijet.j2.delta_r(trijet.j3) > 0.8)\n",
    "        )\n",
    "\n",
    "        trijet = trijet.mask[cross_cleaning]\n",
    "        # -------------------------------------------\n",
    "\n",
    "        dijet = trijet.j1 + trijet.j2\n",
    "        trijet[\"p4\"] = dijet + trijet.j3\n",
    "\n",
    "        trijet[\"max_btag\"] = np.maximum(\n",
    "            trijet.j1.btagDeepFlavB,\n",
    "            np.maximum(trijet.j2.btagDeepFlavB, trijet.j3.btagDeepFlavB),\n",
    "        )\n",
    "\n",
    "        # at least one-btag in bjj candidates\n",
    "        trijet = trijet[trijet.max_btag > btag_wp]\n",
    "\n",
    "\n",
    "        # w (jj) candidates mass\n",
    "        dijet = ak.where(\n",
    "            trijet.j1.btagDeepFlavB > btag_wp,\n",
    "            trijet.j2 + trijet.j3,\n",
    "            (\n",
    "                ak.where(\n",
    "                    trijet.j2.btagDeepFlavB > btag_wp,\n",
    "                    trijet.j1 + trijet.j3,\n",
    "                    trijet.j1 + trijet.j2,\n",
    "                )\n",
    "            ),\n",
    "        )\n",
    "\n",
    "\n",
    "        good_w = (\n",
    "                (dijet.mass > w_low_mass)\n",
    "                & (dijet.mass < w_up_mass)\n",
    "        )  \n",
    "\n",
    "        dijet = dijet.mask[good_w]\n",
    "        trijet = trijet.mask[good_w]\n",
    "\n",
    "\n",
    "        good_tops = (\n",
    "                (trijet[\"p4\"].mass > top_low_mass)\n",
    "                & (trijet[\"p4\"].mass < top_up_mass)\n",
    "        )  \n",
    "\n",
    "        good_trijet = trijet.mask[good_tops]\n",
    "        good_dijet  = dijet.mask[good_tops]\n",
    "\n",
    "\n",
    "        # ----------------------\n",
    "        # chi2 criteria\n",
    "        # ----------------------\n",
    "        chi2_cal = chi2_test(good_trijet[\"p4\"], good_dijet, top_sigma, w_sigma, top_pdg, w_pdg)\n",
    "\n",
    "\n",
    "        good_chi2 = chi2_cal < chi2\n",
    "\n",
    "\n",
    "        top_chi2 = ak.mask(good_trijet[\"p4\"],good_chi2)\n",
    "        w_chi2 = ak.mask(good_dijet,good_chi2)\n",
    "\n",
    "\n",
    "\n",
    "\n",
    "\n",
    "        top_scenario_IX = trijet.mask[good_chi2][\"p4\"]\n",
    "        w_scenario_IX = dijet.mask[good_chi2]\n",
    "        mask_scenario_IX = ak.fill_none(ak.any(good_chi2, axis=1), False)\n",
    "\n",
    "        print(\"Top tagger_mask_IX (True): \", ak.sum(mask_scenario_IX), mask_scenario_IX.ndim)\n",
    "\n",
    "        return top_scenario_IX, mask_scenario_IX  \n",
    "    \n",
    "    ######################################\n",
    "    #########  >= 5 Jet ##################\n",
    "    ######################################\n",
    "        \n",
    "    # ----------------------------------------\n",
    "    #  Scenario X (b=2  + light_jets >= 3)\n",
    "    # ---------------------------------------- \n",
    "    def Scenario_X(self, jets,\n",
    "                    top_sigma, top_low_mass, top_up_mass, top_pdg, \n",
    "                     w_sigma, w_low_mass, w_up_mass, w_pdg, \n",
    "                     chi2, btag_wp):\n",
    "        \n",
    "        multi_jets = jets.mask[ak.num(jets) >= 5]\n",
    "    \n",
    "        trijet = ak.combinations(multi_jets, 3, fields=[\"j1\", \"j2\", \"j3\"])\n",
    "    \n",
    "        # Cross cleaning\n",
    "        cross_cleaning = (\n",
    "            (trijet.j1.delta_r(trijet.j2) > 0.8) &\n",
    "            (trijet.j1.delta_r(trijet.j3) > 0.8) &\n",
    "            (trijet.j2.delta_r(trijet.j3) > 0.8) &\n",
    "            (trijet.j2.delta_r(trijet.j3) > 0.8)\n",
    "        )\n",
    "\n",
    "        trijet = trijet.mask[cross_cleaning]\n",
    "\n",
    "            \n",
    "        dijet = trijet.j1 + trijet.j2\n",
    "        trijet[\"p4\"] = dijet + trijet.j3\n",
    "    \n",
    "        \"\"\"\n",
    "        We identify the maximum b_wp of the jets, so \n",
    "        we can guarantee that at least one of the 3 jets can be considered a b-jet.\n",
    "            \n",
    "        \"\"\"\n",
    "        trijet[\"max_btag\"] = np.maximum(trijet.j1.btagDeepFlavB,\n",
    "                                        np.maximum(trijet.j2.btagDeepFlavB, \n",
    "                                                    trijet.j3.btagDeepFlavB),\n",
    "        )\n",
    "    \n",
    "    \n",
    "        # at least one-btag in bjj candidates\n",
    "        trijet = trijet[trijet.max_btag > btag_wp]\n",
    "    \n",
    "    \n",
    "        # w (jj) candidates mass\n",
    "        dijet = ak.where(\n",
    "                trijet.j1.btagDeepFlavB > btag_wp,             # Condition 1\n",
    "                trijet.j2 + trijet.j3,                         # True\n",
    "                (ak.where(trijet.j2.btagDeepFlavB > btag_wp,   # False: Condition 2\n",
    "                    trijet.j1 + trijet.j3,                     # True\n",
    "                    trijet.j1 + trijet.j2,                     # False\n",
    "                        )\n",
    "                ),\n",
    "        )\n",
    "            \n",
    "    \n",
    "        good_w_mass = (\n",
    "            (dijet.mass > w_low_mass) &\n",
    "            (dijet.mass < w_up_mass)\n",
    "        )  \n",
    "        \n",
    "        jet_w = dijet.mask[good_w_mass]\n",
    "        jet_top = trijet[\"p4\"].mask[good_w_mass]\n",
    "      \n",
    "\n",
    "    \n",
    "        good_top_mass = (\n",
    "            (trijet[\"p4\"].mass > top_low_mass) &\n",
    "            (trijet[\"p4\"].mass < top_up_mass)\n",
    "        )  \n",
    "        \n",
    "        \n",
    "        tops = jet_top.mask[good_top_mass]\n",
    "        w = jet_w.mask[good_top_mass]\n",
    "            \n",
    "            \n",
    "        # ----------------------\n",
    "        # chi2 criteria\n",
    "        # ----------------------\n",
    "        chi2_cal = chi2_test(tops,  w, \n",
    "                            top_sigma, \n",
    "                            w_sigma, \n",
    "                            top_pdg, \n",
    "                            w_pdg)          \n",
    "            \n",
    "            \n",
    "        good_chi2 = (chi2_cal < chi2)\n",
    "            \n",
    "            \n",
    "        top_scenario_X = ak.mask(tops,good_chi2)\n",
    "        mask_scenario_X = ak.fill_none(ak.any(good_chi2, axis=1), False) \n",
    "            \n",
    "        print(\"Top tagger_mask_X (True): \", ak.sum(mask_scenario_X))\n",
    "        \n",
    "        \n",
    "        return top_scenario_X, mask_scenario_X\n"
   ]
  },
  {
   "cell_type": "code",
   "execution_count": 40,
   "id": "d3e16d9e-74ed-4244-b71c-8c53a8f5c3f8",
   "metadata": {
    "tags": []
   },
   "outputs": [],
   "source": [
    "# Sample: TTToSemiLeptonic: 1_280_000\n",
    "fname = \"root://xcache//store/mc/RunIISummer20UL17NanoAODv2/TTToSemiLeptonic_TuneCP5_13TeV-powheg-pythia8/NANOAODSIM/106X_mc2017_realistic_v8-v1/120000/2A2F4EC9-F9BB-DF43-B08D-525B5389937E.root\"\n",
    "events = NanoEventsFactory.from_root(fname, entry_stop=100000, schemaclass=NanoAODSchema).events()"
   ]
  },
  {
   "cell_type": "code",
   "execution_count": 41,
   "id": "432f5df9-05b1-4620-8675-64dbf07a749e",
   "metadata": {
    "tags": []
   },
   "outputs": [],
   "source": [
    "##############################################\n",
    "######  Definition of the objects ############\n",
    "##############################################\n",
    "\n",
    "# ------------\n",
    "# Electrons\n",
    "# ------------\n",
    "good_electrons = (\n",
    "    (events.Electron.pt >= 30)\n",
    "    & (np.abs(events.Electron.eta) < 2.4)\n",
    "    & ((np.abs(events.Electron.eta) < 1.44) | (np.abs(events.Electron.eta) > 1.57))\n",
    "    & (events.Electron.cutBased >= 1)\n",
    ")\n",
    "# Events\n",
    "electrons = events.Electron.mask[good_electrons]\n",
    "\n",
    "   \n",
    "# ------------\n",
    "# Muons\n",
    "# ------------\n",
    "\n",
    "good_muons = (\n",
    "    (events.Muon.pt >= 20)\n",
    "    & (np.abs(events.Muon.eta) < 2.4)\n",
    "    & (events.Muon.tightId)\n",
    "    & (events.Muon.pfRelIso04_all > 0.15)\n",
    "    & (delta_r_mask(events.Muon, electrons, threshold = 0.4))   # Check that muons don't overlap with electrons (DeltaR > 0.4)\n",
    ")\n",
    "# Events\n",
    "muons = events.Muon.mask[good_muons]\n",
    "\n",
    "\n",
    "##########################################\n",
    "############### Fat Jets #################\n",
    "##########################################\n",
    "\n",
    "# ---------------\n",
    "# Top Jets\n",
    "# ---------------\n",
    "with open(\"../../jsons/topWps.json\", \"r\") as f: \n",
    "    Wps = json.load(f)\n",
    "    \n",
    "with open(\"../../data/btagWPs.json\", \"r\") as f: \n",
    "    bjet_Wps = json.load(f)\n",
    "    \n",
    "pNet_id_top = Wps[\"2017\"][\"TvsQCD\"][\"M\"]                      \n",
    "jet_id = Wps[\"2017\"]['jet_id']  \n",
    "\n",
    "\n",
    "# Select good fat jets\n",
    "good_fatjets = (\n",
    "    (events.FatJet.pt >= 300)\n",
    "    & (np.abs(events.FatJet.eta) <= 2.4)\n",
    "    & (events.FatJet.particleNet_TvsQCD >= pNet_id_top)   # Medium   (Top vs QCD)\n",
    "    & (events.FatJet.jetId >= jet_id)   # Medium\n",
    "    & (delta_r_mask(events.FatJet, electrons, threshold=0.8))\n",
    "    & (delta_r_mask(events.FatJet, muons, threshold=0.8))\n",
    ")\n",
    "# Events\n",
    "fatjets = events.FatJet.mask[good_fatjets]\n",
    "\n",
    "\n",
    "\n",
    "# ------------------\n",
    "# W Jets\n",
    "# ------------------\n",
    "pNet_id_w = Wps[\"2017\"][\"WvsQCD\"][\"M\"] \n",
    "\n",
    "good_wjets = (\n",
    "    (events.FatJet.pt >= 200)\n",
    "    & (np.abs(events.FatJet.eta) <= 2.4) #This is the recommendation for all the fat jets (there are not reconstructed forward fat jets)\n",
    "    & (events.FatJet.jetId >= jet_id)   \n",
    "    & (events.FatJet.particleNet_WvsQCD >= pNet_id_w)   # Medium  (W vs QCD)\n",
    "    & (delta_r_mask(events.FatJet, electrons, threshold=0.8))\n",
    "    & (delta_r_mask(events.FatJet, muons, threshold=0.8))\n",
    "    & (delta_r_mask(events.FatJet, fatjets, threshold=0.8))\n",
    ")\n",
    "# Events\n",
    "wjets = events.FatJet.mask[good_wjets]\n",
    "\n",
    "\n",
    "\n",
    "##########################################\n",
    "################ Jets ####################\n",
    "##########################################\n",
    "\n",
    "jet_eta = Wps[\"2017\"]['jet_eta']\n",
    "jet_id = Wps[\"2017\"]['jet_id']\n",
    "    \n",
    "bjet_wp = bjet_Wps[\"deepJet\"][\"2017\"][\"M\"]\n",
    "\n",
    "# pt jet was increased.\n",
    "good_jets = (\n",
    "    (events.Jet.pt >= 20)           \n",
    "    & (np.abs(events.Jet.eta) <= jet_eta) \n",
    "    & (events.Jet.jetId >= jet_id) \n",
    "    & (delta_r_mask(events.Jet, electrons, threshold=0.4))\n",
    "    & (delta_r_mask(events.Jet, muons, threshold=0.4)) \n",
    "    & (delta_r_mask(events.Jet, fatjets, threshold=0.8)) \n",
    "    & (delta_r_mask(events.Jet, wjets, threshold=0.8))\n",
    ")    \n",
    "# Events\n",
    "jets = events.Jet.mask[good_jets]\n",
    "\n",
    "\n",
    "good_bjets = (\n",
    "    (good_jets) \n",
    "    & (events.Jet.btagDeepFlavB >= bjet_wp)    # Pass the b-tagger\n",
    ")\n",
    "# Events\n",
    "bjets = events.Jet.mask[good_bjets]"
   ]
  },
  {
   "cell_type": "code",
   "execution_count": 42,
   "id": "6d26bbb5-ecf8-4eab-a76b-5ac2427de815",
   "metadata": {
    "tags": []
   },
   "outputs": [],
   "source": [
    "def pdg_masses():\n",
    "    \n",
    "    with open(\"../../jsons/wAndtop_masses.json\", \"r\") as f:\n",
    "        pdg = json.load(f)\n",
    "                    \n",
    "    top_mass_pdg = pdg['pdg']['top_mass']           \n",
    "    w_mass_pdg = pdg['pdg']['w_mass'] \n",
    "    \n",
    "    return top_mass_pdg, w_mass_pdg\n",
    "\n",
    "\n",
    "def tagger_constants(self, type: str = \"hadronic\"):\n",
    "\n",
    "    # W, top and chi2\n",
    "    with open(\"../../jsons/wAndtop_masses.json\", \"r\") as f:\n",
    "        masses = json.load(f)\n",
    "\n",
    "\n",
    "    top_sigma = masses[type]['top_sigma']\n",
    "    top_low_mass = masses[type]['top_low_mass']\n",
    "    top_up_mass = masses[type]['top_up_mass']\n",
    "\n",
    "\n",
    "    w_sigma = masses[type]['w_sigma']\n",
    "    w_low_mass = masses[type]['w_low_mass']\n",
    "    w_up_mass = masses[type]['w_up_mass']  \n",
    "\n",
    "    chi2 = masses[type]['chi2']\n",
    "\n",
    "    return top_sigma, top_low_mass, top_up_mass, w_sigma, w_low_mass, w_up_mass, chi2"
   ]
  },
  {
   "cell_type": "code",
   "execution_count": 43,
   "id": "342ca82a-e358-400c-8884-bba5b799c955",
   "metadata": {
    "tags": []
   },
   "outputs": [],
   "source": [
    "top_sigma, top_low, top_up, w_sigma, w_low, w_up, chi2 = tagger_constants(\"hadronic\")\n",
    "top_pdg, w_pdg = pdg_masses()\n",
    "\n",
    "topX = topXfinder(\"2017\", \"\", bjet_wp)"
   ]
  },
  {
   "cell_type": "code",
   "execution_count": 8,
   "id": "efa42752-9baf-4d09-a50a-35ea675147d0",
   "metadata": {
    "tags": []
   },
   "outputs": [
    {
     "name": "stdout",
     "output_type": "stream",
     "text": [
      "Top tagger_mask_I (True):  147\n"
     ]
    },
    {
     "data": {
      "text/plain": [
       "Text(0, 0.5, 'Events')"
      ]
     },
     "execution_count": 8,
     "metadata": {},
     "output_type": "execute_result"
    },
    {
     "data": {
      "image/png": "[encoded data removed]",
      "text/plain": [
       "<Figure size 640x480 with 1 Axes>"
      ]
     },
     "metadata": {},
     "output_type": "display_data"
    }
   ],
   "source": [
    "top_I, mask_I = topX.Scenario_I(fatjets, top_low, top_up)\n",
    "histogram = hist.Hist(\n",
    "    hist.axis.Regular(\n",
    "        bins=40, start=50, stop=450, name=\"mtop\", label=\"$m_{top}$ [GeV]\"\n",
    "    ),\n",
    ")\n",
    "histogram.fill(mtop=ak.fill_none(ak.flatten(top_I.mass), False)).plot1d()\n",
    "\n",
    "plt.axvline(173.1, color='r', linestyle='dashed', linewidth=1)\n",
    "plt.title('Top tagger')\n",
    "plt.ylabel('Events')"
   ]
  },
  {
   "cell_type": "code",
   "execution_count": 17,
   "id": "416fcbe6-4839-4ac8-89aa-8d892200a12c",
   "metadata": {
    "tags": []
   },
   "outputs": [
    {
     "data": {
      "text/plain": [
       "2"
      ]
     },
     "execution_count": 17,
     "metadata": {},
     "output_type": "execute_result"
    }
   ],
   "source": [
    "test = ak.Array([[True,False], [False,True], [False, False], [None]])\n",
    "ak.any(test, axis = 1)\n",
    "ak.sum(test)"
   ]
  },
  {
   "cell_type": "code",
   "execution_count": 15,
   "id": "8501d595-2de1-4902-8cee-f5e39a86b9b9",
   "metadata": {
    "tags": []
   },
   "outputs": [
    {
     "name": "stdout",
     "output_type": "stream",
     "text": [
      "Top tagger_mask_II (True):  0\n"
     ]
    },
    {
     "name": "stderr",
     "output_type": "stream",
     "text": [
      "/opt/conda/lib/python3.8/site-packages/mplhep/error_estimation.py:38: RuntimeWarning: All sumw are zero!  Cannot compute meaningful error bars\n",
      "  warnings.warn(\n"
     ]
    },
    {
     "data": {
      "text/plain": [
       "Text(0, 0.5, 'Events')"
      ]
     },
     "execution_count": 15,
     "metadata": {},
     "output_type": "execute_result"
    },
    {
     "data": {
      "image/png": "[encoded data removed]",
      "text/plain": [
       "<Figure size 640x480 with 1 Axes>"
      ]
     },
     "metadata": {},
     "output_type": "display_data"
    }
   ],
   "source": [
    "top_II, mask_II = topX.Scenario_II(fatjets, bjets, \n",
    "                                    top_low, top_up)\n",
    "histogram = hist.Hist(\n",
    "    hist.axis.Regular(\n",
    "        bins=40, start=50, stop=450, name=\"mtop\", label=\"$m_{top}$ [GeV]\"\n",
    "    ),\n",
    ")\n",
    "histogram.fill(mtop=ak.fill_none(ak.flatten(top_II.mass), False)).plot1d()\n",
    "\n",
    "plt.axvline(173.1, color='r', linestyle='dashed', linewidth=1)\n",
    "plt.title('Top tagger')\n",
    "plt.ylabel('Events')"
   ]
  },
  {
   "cell_type": "code",
   "execution_count": 10,
   "id": "ae3e91a0-0b66-460a-a013-962e2c408b6e",
   "metadata": {
    "tags": []
   },
   "outputs": [
    {
     "name": "stdout",
     "output_type": "stream",
     "text": [
      "Top tagger_mask_III (True):  0\n"
     ]
    },
    {
     "name": "stderr",
     "output_type": "stream",
     "text": [
      "/opt/conda/lib/python3.8/site-packages/mplhep/error_estimation.py:38: RuntimeWarning: All sumw are zero!  Cannot compute meaningful error bars\n",
      "  warnings.warn(\n"
     ]
    },
    {
     "data": {
      "text/plain": [
       "Text(0, 0.5, 'Events')"
      ]
     },
     "execution_count": 10,
     "metadata": {},
     "output_type": "execute_result"
    },
    {
     "data": {
      "image/png": "[encoded data removed]",
      "text/plain": [
       "<Figure size 640x480 with 1 Axes>"
      ]
     },
     "metadata": {},
     "output_type": "display_data"
    }
   ],
   "source": [
    "top_III, mask_III = topX.Scenario_III(wjets, bjets, \n",
    "                                      top_sigma, top_low, top_up, top_pdg,\n",
    "                                      w_sigma, w_low, w_up, w_pdg,\n",
    "                                      chi2)\n",
    "histogram = hist.Hist(\n",
    "    hist.axis.Regular(\n",
    "        bins=40, start=50, stop=450, name=\"mtop\", label=\"$m_{top}$ [GeV]\"\n",
    "    ),\n",
    ")\n",
    "histogram.fill(mtop=ak.fill_none(ak.flatten(top_III.mass), False)).plot1d()\n",
    "\n",
    "plt.axvline(173.1, color='r', linestyle='dashed', linewidth=1)\n",
    "plt.title('Top tagger')\n",
    "plt.ylabel('Events')"
   ]
  },
  {
   "cell_type": "code",
   "execution_count": 11,
   "id": "aaeab500-0e17-4c49-bfd4-ef51f20a0d0d",
   "metadata": {
    "tags": []
   },
   "outputs": [
    {
     "name": "stdout",
     "output_type": "stream",
     "text": [
      "Top tagger_mask_IV (True):  0\n"
     ]
    },
    {
     "name": "stderr",
     "output_type": "stream",
     "text": [
      "/opt/conda/lib/python3.8/site-packages/mplhep/error_estimation.py:38: RuntimeWarning: All sumw are zero!  Cannot compute meaningful error bars\n",
      "  warnings.warn(\n"
     ]
    },
    {
     "data": {
      "text/plain": [
       "Text(0, 0.5, 'Events')"
      ]
     },
     "execution_count": 11,
     "metadata": {},
     "output_type": "execute_result"
    },
    {
     "data": {
      "image/png": "[encoded data removed]",
      "text/plain": [
       "<Figure size 640x480 with 1 Axes>"
      ]
     },
     "metadata": {},
     "output_type": "display_data"
    }
   ],
   "source": [
    "top_IV, mask_IV = topX.Scenario_IV(wjets, bjets, \n",
    "                                  top_low, top_up,\n",
    "                                  w_low, w_up)\n",
    "\n",
    "histogram = hist.Hist(\n",
    "    hist.axis.Regular(\n",
    "        bins=40, start=50, stop=450, name=\"mtop\", label=\"$m_{top}$ [GeV]\"\n",
    "    ),\n",
    ")\n",
    "histogram.fill(mtop=ak.fill_none(ak.flatten(top_IV.mass), False)).plot1d()\n",
    "\n",
    "plt.axvline(173.1, color='r', linestyle='dashed', linewidth=1)\n",
    "plt.title('Top tagger')\n",
    "plt.ylabel('Events')"
   ]
  },
  {
   "cell_type": "code",
   "execution_count": 12,
   "id": "2ed4b28a-95d8-4686-a6ad-9898cb2165e9",
   "metadata": {
    "tags": []
   },
   "outputs": [
    {
     "name": "stdout",
     "output_type": "stream",
     "text": [
      "Top tagger_mask_V (True):  0\n"
     ]
    },
    {
     "name": "stderr",
     "output_type": "stream",
     "text": [
      "/opt/conda/lib/python3.8/site-packages/mplhep/error_estimation.py:38: RuntimeWarning: All sumw are zero!  Cannot compute meaningful error bars\n",
      "  warnings.warn(\n"
     ]
    },
    {
     "data": {
      "text/plain": [
       "Text(0, 0.5, 'Events')"
      ]
     },
     "execution_count": 12,
     "metadata": {},
     "output_type": "execute_result"
    },
    {
     "data": {
      "image/png": "[encoded data removed]",
      "text/plain": [
       "<Figure size 640x480 with 1 Axes>"
      ]
     },
     "metadata": {},
     "output_type": "display_data"
    }
   ],
   "source": [
    "top_V, mask_V = topX.Scenario_V(bjets, wjets,\n",
    "                                top_sigma, top_low, top_up, top_pdg,\n",
    "                                w_sigma, w_low, w_up, w_pdg,\n",
    "                                chi2)\n",
    "histogram = hist.Hist(\n",
    "    hist.axis.Regular(\n",
    "        bins=40, start=50, stop=450, name=\"mtop\", label=\"$m_{top}$ [GeV]\"\n",
    "    ),\n",
    ")\n",
    "histogram.fill(mtop=ak.fill_none(ak.flatten(top_V.mass), False)).plot1d()\n",
    "\n",
    "plt.axvline(173.1, color='r', linestyle='dashed', linewidth=1)\n",
    "plt.title('Top tagger')\n",
    "plt.ylabel('Events')"
   ]
  },
  {
   "cell_type": "code",
   "execution_count": 44,
   "id": "01293513-a55b-4bcc-9e41-143e44e22939",
   "metadata": {
    "tags": []
   },
   "outputs": [
    {
     "name": "stdout",
     "output_type": "stream",
     "text": [
      "Top tagger_mask_VI (True):  131 1\n"
     ]
    },
    {
     "data": {
      "text/plain": [
       "Text(0, 0.5, 'Events')"
      ]
     },
     "execution_count": 44,
     "metadata": {},
     "output_type": "execute_result"
    },
    {
     "data": {
      "image/png": "[encoded data removed]",
      "text/plain": [
       "<Figure size 640x480 with 1 Axes>"
      ]
     },
     "metadata": {},
     "output_type": "display_data"
    }
   ],
   "source": [
    "top_VI, mask_VI = topX.Scenario_VI(jets, \n",
    "                                      top_sigma, top_low, top_up, top_pdg,\n",
    "                                      w_sigma, w_low, w_up, w_pdg,\n",
    "                                      chi2, bjet_wp)\n",
    "histogram = hist.Hist(\n",
    "    hist.axis.Regular(\n",
    "        bins=40, start=50, stop=450, name=\"mtop\", label=\"$m_{top}$ [GeV]\"\n",
    "    ),\n",
    ")\n",
    "histogram.fill(mtop=ak.fill_none(ak.flatten(top_VI.mass), False)).plot1d()\n",
    "\n",
    "plt.axvline(173.1, color='r', linestyle='dashed', linewidth=1)\n",
    "plt.title('Top tagger')\n",
    "plt.ylabel('Events')"
   ]
  },
  {
   "cell_type": "code",
   "execution_count": 14,
   "id": "9d3de1ff-1749-4a62-879c-bd9b279a9b82",
   "metadata": {
    "tags": []
   },
   "outputs": [
    {
     "name": "stdout",
     "output_type": "stream",
     "text": [
      "Top tagger_mask_VII (True):  48\n"
     ]
    },
    {
     "data": {
      "text/plain": [
       "Text(0, 0.5, 'Events')"
      ]
     },
     "execution_count": 14,
     "metadata": {},
     "output_type": "execute_result"
    },
    {
     "data": {
      "image/png": "[encoded data removed]",
      "text/plain": [
       "<Figure size 640x480 with 1 Axes>"
      ]
     },
     "metadata": {},
     "output_type": "display_data"
    }
   ],
   "source": [
    "top_VII, mask_VII = topX.Scenario_VII(jets, \n",
    "                                      top_low, top_up, \n",
    "                                      w_low, w_up, \n",
    "                                      bjet_wp)\n",
    "histogram = hist.Hist(\n",
    "    hist.axis.Regular(\n",
    "        bins=40, start=50, stop=450, name=\"mtop\", label=\"$m_{top}$ [GeV]\"\n",
    "    ),\n",
    ")\n",
    "histogram.fill(mtop=ak.fill_none(ak.flatten(top_VII.mass), False)).plot1d()\n",
    "\n",
    "plt.axvline(173.1, color='r', linestyle='dashed', linewidth=1)\n",
    "plt.title('Top tagger')\n",
    "plt.ylabel('Events')"
   ]
  },
  {
   "cell_type": "code",
   "execution_count": 32,
   "id": "bcdf4bf8-4811-4745-a1ee-1d14b610de01",
   "metadata": {
    "tags": []
   },
   "outputs": [
    {
     "name": "stdout",
     "output_type": "stream",
     "text": [
      "Top tagger_mask_IX (True):  1288 1\n"
     ]
    },
    {
     "data": {
      "text/plain": [
       "Text(0, 0.5, 'Events')"
      ]
     },
     "execution_count": 32,
     "metadata": {},
     "output_type": "execute_result"
    },
    {
     "data": {
      "image/png": "[encoded data removed]",
      "text/plain": [
       "<Figure size 640x480 with 1 Axes>"
      ]
     },
     "metadata": {},
     "output_type": "display_data"
    }
   ],
   "source": [
    "top_IX, mask_IX = topX.Scenario_IX(jets, \n",
    "                                  top_sigma, top_low, top_up, top_pdg,\n",
    "                                  w_sigma, w_low, w_up, w_pdg,\n",
    "                                  chi2, bjet_wp)\n",
    "histogram = hist.Hist(\n",
    "    hist.axis.Regular(\n",
    "        bins=40, start=50, stop=450, name=\"mtop\", label=\"$m_{top}$ [GeV]\"\n",
    "    ),\n",
    ")\n",
    "histogram.fill(mtop=ak.fill_none(ak.flatten(top_IX.mass), False)).plot1d()\n",
    "\n",
    "plt.axvline(173.1, color='r', linestyle='dashed', linewidth=1)\n",
    "plt.title('Top tagger')\n",
    "plt.ylabel('Events')"
   ]
  },
  {
   "cell_type": "code",
   "execution_count": 16,
   "id": "71e8c204-eb3d-4045-85b4-ebf4c5fd2ad8",
   "metadata": {
    "tags": []
   },
   "outputs": [
    {
     "name": "stdout",
     "output_type": "stream",
     "text": [
      "Top tagger_mask_X (all):  1614\n"
     ]
    }
   ],
   "source": [
    "# Adding\n",
    "\n",
    "mask_topXfinder = topTagger_mask(mask_I, mask_II) \n",
    "mask_topXfinder = topTagger_mask(mask_topXfinder, mask_III)\n",
    "mask_topXfinder = topTagger_mask(mask_topXfinder, mask_IV)\n",
    "mask_topXfinder = topTagger_mask(mask_topXfinder, mask_VI)\n",
    "mask_topXfinder = topTagger_mask(mask_topXfinder, mask_VII)\n",
    "mask_topXfinder = topTagger_mask(mask_topXfinder, mask_IX)\n",
    "    \n",
    "\n",
    "print(\"Top tagger_mask_X (all): \", ak.sum(mask_topXfinder))"
   ]
  },
  {
   "cell_type": "code",
   "execution_count": 14,
   "id": "8321d854-21ea-48ff-8a91-f4ae2168dced",
   "metadata": {
    "tags": []
   },
   "outputs": [
    {
     "ename": "NameError",
     "evalue": "name 'mask_I' is not defined",
     "output_type": "error",
     "traceback": [
      "\u001b[0;31m---------------------------------------------------------------------------\u001b[0m",
      "\u001b[0;31mNameError\u001b[0m                                 Traceback (most recent call last)",
      "Cell \u001b[0;32mIn[14], line 1\u001b[0m\n\u001b[0;32m----> 1\u001b[0m \u001b[38;5;28mprint\u001b[39m(\u001b[43mmask_I\u001b[49m)\n\u001b[1;32m      2\u001b[0m \u001b[38;5;28mprint\u001b[39m(mask_II)\n\u001b[1;32m      3\u001b[0m \u001b[38;5;28mprint\u001b[39m(mask_III)\n",
      "\u001b[0;31mNameError\u001b[0m: name 'mask_I' is not defined"
     ]
    }
   ],
   "source": [
    "print(mask_I)\n",
    "print(mask_II)\n",
    "print(mask_III)\n",
    "print(mask_IV)\n",
    "print(mask_V)\n",
    "print(mask_VI)\n",
    "print(mask_VII)\n",
    "print(mask_IX)\n",
    "print(mask_topXfinder)"
   ]
  },
  {
   "cell_type": "markdown",
   "id": "ec9713b8-2940-49f4-82a2-dcea4b14c600",
   "metadata": {},
   "source": [
    "# Code"
   ]
  },
  {
   "cell_type": "code",
   "execution_count": 35,
   "id": "d94c4498-3ccb-4263-ba28-1be8de03bcac",
   "metadata": {
    "tags": []
   },
   "outputs": [],
   "source": [
    "import histograms\n",
    "from coffea.nanoevents.methods.base import NanoEventsArray"
   ]
  },
  {
   "cell_type": "code",
   "execution_count": 36,
   "id": "c9ca07ff-ea21-4988-b54c-577b5ff1c923",
   "metadata": {
    "tags": []
   },
   "outputs": [],
   "source": [
    "\n",
    "syst = \"nominal\"\n",
    "\n",
    "# initialize dictionary of hists for control regions\n",
    "hist_dict = {\n",
    "    \"tau_kin\": histograms.ttbar_h_lepton_hist\n",
    "}\n",
    "\n",
    "\n",
    "# define dictionary to store analysis variables\n",
    "features = {}   \n",
    "\n",
    "# initialize dictionary of arrays\n",
    "array_dict = {}\n",
    "\n",
    "\n",
    "# get number of events before selection\n",
    "nevents = len(events)\n",
    "\n",
    "# check if sample is MC\n",
    "is_mc = hasattr(events, \"genWeight\")\n",
    "\n",
    "# define systematic variations\n",
    "syst_variations = [\"nominal\"]\n",
    "if is_mc:\n",
    "    jet_jec_syst_variations = [\"JESUp\", \"JESDown\"]\n",
    "    jet_jer_syst_variations = [\"JERUp\", \"JERDown\"]\n",
    "    met_obj_syst_variations = [\"UEUp\", \"UEDown\"]\n",
    "\n",
    "    if syst == \"jec\":\n",
    "        syst_variations.extend(jet_jec_syst_variations)\n",
    "    elif syst == \"jer\":\n",
    "        syst_variations.extend(jet_jer_syst_variations)\n",
    "    elif syst == \"jec\":\n",
    "        syst_variations.extend(jet_jec_syst_variations)\n",
    "        syst_variations.extend(jet_jer_syst_variations)\n",
    "    elif syst == \"met\":\n",
    "        syst_variations.extend(met_obj_syst_variations)\n",
    "    elif syst == \"full\":\n",
    "        syst_variations.extend(jet_jec_syst_variations)\n",
    "        syst_variations.extend(jet_jer_syst_variations)\n",
    "        syst_variations.extend(met_obj_syst_variations)\n",
    "        "
   ]
  },
  {
   "cell_type": "code",
   "execution_count": 47,
   "id": "3cdc1406-6909-4600-b695-e65b7b89f747",
   "metadata": {
    "tags": []
   },
   "outputs": [],
   "source": [
    "def select_good_electrons(events: NanoEventsArray) -> ak.highlevel.Array:\n",
    "    return (\n",
    "                (events.Electron.pt >= 30)\n",
    "                & (np.abs(events.Electron.eta) <= 2.4)\n",
    "                & (\n",
    "                    (np.abs(events.Electron.eta) <= 1.44)\n",
    "                    | (np.abs(events.Electron.eta) >= 1.57)\n",
    "                )\n",
    "                & (events.Electron.cutBased >= 1)\n",
    "                & (events.Electron.mvaFall17V2Iso_WP90)\n",
    "            )\n",
    "    \n",
    "\n",
    "\n",
    "def select_good_muons(events: NanoEventsArray) -> ak.highlevel.Array:\n",
    "    return (\n",
    "                (events.Muon.pt >= 35)\n",
    "                & (np.abs(events.Muon.eta) <= 2.4)\n",
    "                & (events.Muon.tightId)\n",
    "                & (events.Muon.pfRelIso04_all <= 0.15)\n",
    "            )\n",
    "    \n",
    "    \n",
    "\n",
    "def select_good_taus(events: NanoEventsArray) -> ak.highlevel.Array:\n",
    "    return (\n",
    "                (events.Tau.pt >= 20)\n",
    "                & (np.abs(events.Tau.eta) <= 2.3)\n",
    "                # github.com/bonanomi/hh2bbww/blob/388efda4e9a6a207d4e983c7f7528acb3a4c374f/hbw/selection/default.py#L295\n",
    "                & (events.Tau.idDeepTau2017v2p1VSjet >= 6)  # VVVLoose,VVLoose,VLoose,Loose,Medium,Tight,VTight,VVTight\n",
    "                & (events.Tau.idDeepTau2017v2p1VSe >= 5)    # VVVLoose,VVLoose,VLoose,Loose,Medium,Tight,VTight,VVTight\n",
    "                & (events.Tau.idDeepTau2017v2p1VSmu >= 4)   # VLoose,Loose,Medium,Tight\n",
    "                & (np.abs(events.Tau.dz) < 0.2)\n",
    "                & (events.Tau.idDecayModeNewDMs)    \n",
    "                & (\n",
    "                    (events.Tau.decayMode == 0)             # 0 (tau->pi)\n",
    "                    | (events.Tau.decayMode == 1)           # 1 (tau->rho->pi+pi0)\n",
    "                    | (events.Tau.decayMode == 1)           # 2 (tau->a1->pi+2pi0)\n",
    "                    | (events.Tau.decayMode == 10)          # 10 (tau->a1->3pi)\n",
    "                    | (events.Tau.decayMode == 11)          # 11 (tau->3pi+pi0)\n",
    "                )\n",
    "            )\n",
    "\n",
    "def select_good_Fatjets(fatjets, year=\"2017\", working_point=\"T\"):\n",
    "    # Wps top tagger, jet_id and jet_eta\n",
    "    with open(\"../../jsons/topWps.json\", \"r\") as f: \n",
    "        Wps = json.load(f)\n",
    "\n",
    "    pNet_id = Wps[year][\"TvsQCD\"][working_point]                      \n",
    "    jet_id = Wps[year]['jet_id']  \n",
    "    \n",
    "    return (\n",
    "                (fatjets.pt >= 300)\n",
    "                & (np.abs(fatjets.eta) <= 2.4)\n",
    "                & (fatjets.particleNet_TvsQCD >= pNet_id)   # Top vs QCD (tight)\n",
    "                & (fatjets.jetId >= jet_id)                 # tight ID\n",
    "            )\n",
    "  \n",
    "\n",
    "def select_good_Wjets(fatjets, year=\"2017\", working_point=\"T\"):\n",
    "    # Wps top tagger, jet_id and jet_eta\n",
    "    with open(\"../../topWps.json\", \"r\") as f: \n",
    "        Wps = json.load(f)\n",
    "        \n",
    "    pNet_id = Wps[year][\"WvsQCD\"][working_point]                      \n",
    "    jet_id = Wps[year]['jet_id']  \n",
    "    \n",
    "    return (\n",
    "                (fatjets.pt >= 200)\n",
    "                & (np.abs(fatjets.eta) <= 2.4)\n",
    "                & (fatjets.particleNet_WvsQCD >= pNet_id)   # W vs QCD (tight) \n",
    "                & (fatjets.jetId >= jet_id)   \n",
    "\n",
    "            )\n",
    "   \n",
    "\n",
    "    \n",
    "def select_good_jets(jets, year=\"2017\"):  \n",
    "    # Wps top tagger, jet_id and jet_eta\n",
    "    with open(\"../../topWps.json\", \"r\") as f: \n",
    "        Wps = json.load(f)\n",
    "\n",
    "        \n",
    "    jet_eta = Wps[year]['jet_eta']\n",
    "    jet_id = Wps[year]['jet_id']\n",
    "      \n",
    "    return (\n",
    "                (jets.pt >= 30)           \n",
    "                & (np.abs(jets.eta) <= jet_eta) \n",
    "                & (jets.jetId >= jet_id)                    #  pass tight and tightLepVeto ID.                \n",
    "                & (jets.puId == 7)                          #  pass loose, medium, tight ID\n",
    "            )   \n",
    "    \n",
    "\n",
    "    \n",
    "def select_good_bjets(jets, year=\"2017\", working_point=\"M\"):\n",
    "    # open and load btagDeepFlavB working point\n",
    "    with importlib.resources.open_text(\"wprime_plus_b.data\", \"btagWPs.json\") as file:\n",
    "        btagDeepFlavB = json.load(file)[\"deepJet\"][year][working_point] \n",
    "        \n",
    "    # Wps top tagger, jet_id and jet_eta\n",
    "    with open(\"../../jsons/topWps.json\", \"r\") as f: \n",
    "        Wps = json.load(f)\n",
    "   \n",
    "    jet_eta = Wps[year]['jet_eta']\n",
    "    jet_id = Wps[year]['jet_id']\n",
    "    \n",
    "    return (\n",
    "                (jets.pt >= 20)\n",
    "                & (np.abs(jets.eta) <= jet_eta)\n",
    "                & (jets.jetId >= jet_id)                    #  pass tight and tightLepVeto ID.     \n",
    "                & (jets.puId == 7)                          #  pass loose, medium, tight ID\n",
    "                & (jets.btagDeepFlavB >= btagDeepFlavB)\n",
    "            )"
   ]
  },
  {
   "cell_type": "code",
   "execution_count": 48,
   "id": "eae2620b-bb96-47f6-a7fa-e376594495c4",
   "metadata": {
    "tags": []
   },
   "outputs": [
    {
     "ename": "FileNotFoundError",
     "evalue": "[Errno 2] No such file or directory: 'wprime_plus_b/jsons/topWps.json'",
     "output_type": "error",
     "traceback": [
      "\u001b[0;31m---------------------------------------------------------------------------\u001b[0m",
      "\u001b[0;31mFileNotFoundError\u001b[0m                         Traceback (most recent call last)",
      "Cell \u001b[0;32mIn[48], line 26\u001b[0m\n\u001b[1;32m     20\u001b[0m taus \u001b[38;5;241m=\u001b[39m events\u001b[38;5;241m.\u001b[39mTau\u001b[38;5;241m.\u001b[39mmask[good_taus]\n\u001b[1;32m     22\u001b[0m \u001b[38;5;66;03m# ------------------\u001b[39;00m\n\u001b[1;32m     23\u001b[0m \u001b[38;5;66;03m# Fatjets\u001b[39;00m\n\u001b[1;32m     24\u001b[0m \u001b[38;5;66;03m# -------------------            \u001b[39;00m\n\u001b[1;32m     25\u001b[0m \u001b[38;5;66;03m# select good Fatjets\u001b[39;00m\n\u001b[0;32m---> 26\u001b[0m good_fatjets \u001b[38;5;241m=\u001b[39m (\u001b[43mselect_good_Fatjets\u001b[49m\u001b[43m(\u001b[49m\u001b[43mevents\u001b[49m\u001b[38;5;241;43m.\u001b[39;49m\u001b[43mFatJet\u001b[49m\u001b[43m,\u001b[49m\u001b[43m \u001b[49m\u001b[38;5;124;43m\"\u001b[39;49m\u001b[38;5;124;43m2027\u001b[39;49m\u001b[38;5;124;43m\"\u001b[39;49m\u001b[43m \u001b[49m\u001b[38;5;241;43m+\u001b[39;49m\u001b[43m \u001b[49m\u001b[38;5;124;43m\"\u001b[39;49m\u001b[38;5;124;43m\"\u001b[39;49m\u001b[43m,\u001b[49m\u001b[43m \u001b[49m\u001b[43mworking_point\u001b[49m\u001b[38;5;241;43m=\u001b[39;49m\u001b[43mpNet_id_top\u001b[49m\u001b[43m)\u001b[49m\n\u001b[1;32m     27\u001b[0m                 \u001b[38;5;241m&\u001b[39m (delta_r_mask(events\u001b[38;5;241m.\u001b[39mFatJet, electrons, threshold\u001b[38;5;241m=\u001b[39m\u001b[38;5;241m0.4\u001b[39m))\n\u001b[1;32m     28\u001b[0m                 \u001b[38;5;241m&\u001b[39m (delta_r_mask(events\u001b[38;5;241m.\u001b[39mFatJet, muons, threshold\u001b[38;5;241m=\u001b[39m\u001b[38;5;241m0.4\u001b[39m))\n\u001b[1;32m     29\u001b[0m )\n\u001b[1;32m     30\u001b[0m fatjets \u001b[38;5;241m=\u001b[39m events\u001b[38;5;241m.\u001b[39mFatJet\u001b[38;5;241m.\u001b[39mmask[good_fatjets]\n\u001b[1;32m     32\u001b[0m \u001b[38;5;66;03m# select good W jets\u001b[39;00m\n",
      "Cell \u001b[0;32mIn[47], line 46\u001b[0m, in \u001b[0;36mselect_good_Fatjets\u001b[0;34m(fatjets, year, working_point)\u001b[0m\n\u001b[1;32m     44\u001b[0m \u001b[38;5;28;01mdef\u001b[39;00m \u001b[38;5;21mselect_good_Fatjets\u001b[39m(fatjets, year\u001b[38;5;241m=\u001b[39m\u001b[38;5;124m\"\u001b[39m\u001b[38;5;124m2017\u001b[39m\u001b[38;5;124m\"\u001b[39m, working_point\u001b[38;5;241m=\u001b[39m\u001b[38;5;124m\"\u001b[39m\u001b[38;5;124mT\u001b[39m\u001b[38;5;124m\"\u001b[39m):\n\u001b[1;32m     45\u001b[0m     \u001b[38;5;66;03m# Wps top tagger, jet_id and jet_eta\u001b[39;00m\n\u001b[0;32m---> 46\u001b[0m     \u001b[38;5;28;01mwith\u001b[39;00m \u001b[38;5;28;43mopen\u001b[39;49m\u001b[43m(\u001b[49m\u001b[38;5;124;43m\"\u001b[39;49m\u001b[38;5;124;43mwprime_plus_b/jsons/topWps.json\u001b[39;49m\u001b[38;5;124;43m\"\u001b[39;49m\u001b[43m,\u001b[49m\u001b[43m \u001b[49m\u001b[38;5;124;43m\"\u001b[39;49m\u001b[38;5;124;43mr\u001b[39;49m\u001b[38;5;124;43m\"\u001b[39;49m\u001b[43m)\u001b[49m \u001b[38;5;28;01mas\u001b[39;00m f: \n\u001b[1;32m     47\u001b[0m         Wps \u001b[38;5;241m=\u001b[39m json\u001b[38;5;241m.\u001b[39mload(f)\n\u001b[1;32m     49\u001b[0m     pNet_id \u001b[38;5;241m=\u001b[39m Wps[year][\u001b[38;5;124m\"\u001b[39m\u001b[38;5;124mTvsQCD\u001b[39m\u001b[38;5;124m\"\u001b[39m][working_point]                      \n",
      "File \u001b[0;32m/opt/conda/lib/python3.8/site-packages/IPython/core/interactiveshell.py:282\u001b[0m, in \u001b[0;36m_modified_open\u001b[0;34m(file, *args, **kwargs)\u001b[0m\n\u001b[1;32m    275\u001b[0m \u001b[38;5;28;01mif\u001b[39;00m file \u001b[38;5;129;01min\u001b[39;00m {\u001b[38;5;241m0\u001b[39m, \u001b[38;5;241m1\u001b[39m, \u001b[38;5;241m2\u001b[39m}:\n\u001b[1;32m    276\u001b[0m     \u001b[38;5;28;01mraise\u001b[39;00m \u001b[38;5;167;01mValueError\u001b[39;00m(\n\u001b[1;32m    277\u001b[0m         \u001b[38;5;124mf\u001b[39m\u001b[38;5;124m\"\u001b[39m\u001b[38;5;124mIPython won\u001b[39m\u001b[38;5;124m'\u001b[39m\u001b[38;5;124mt let you open fd=\u001b[39m\u001b[38;5;132;01m{\u001b[39;00mfile\u001b[38;5;132;01m}\u001b[39;00m\u001b[38;5;124m by default \u001b[39m\u001b[38;5;124m\"\u001b[39m\n\u001b[1;32m    278\u001b[0m         \u001b[38;5;124m\"\u001b[39m\u001b[38;5;124mas it is likely to crash IPython. If you know what you are doing, \u001b[39m\u001b[38;5;124m\"\u001b[39m\n\u001b[1;32m    279\u001b[0m         \u001b[38;5;124m\"\u001b[39m\u001b[38;5;124myou can use builtins\u001b[39m\u001b[38;5;124m'\u001b[39m\u001b[38;5;124m open.\u001b[39m\u001b[38;5;124m\"\u001b[39m\n\u001b[1;32m    280\u001b[0m     )\n\u001b[0;32m--> 282\u001b[0m \u001b[38;5;28;01mreturn\u001b[39;00m \u001b[43mio_open\u001b[49m\u001b[43m(\u001b[49m\u001b[43mfile\u001b[49m\u001b[43m,\u001b[49m\u001b[43m \u001b[49m\u001b[38;5;241;43m*\u001b[39;49m\u001b[43margs\u001b[49m\u001b[43m,\u001b[49m\u001b[43m \u001b[49m\u001b[38;5;241;43m*\u001b[39;49m\u001b[38;5;241;43m*\u001b[39;49m\u001b[43mkwargs\u001b[49m\u001b[43m)\u001b[49m\n",
      "\u001b[0;31mFileNotFoundError\u001b[0m: [Errno 2] No such file or directory: 'wprime_plus_b/jsons/topWps.json'"
     ]
    }
   ],
   "source": [
    "for syst_var in syst_variations:                \n",
    "   # ------------------\n",
    "    # leptons\n",
    "    # -------------------\n",
    "    # select good electrons\n",
    "    good_electrons = select_good_electrons(events)\n",
    "    electrons = events.Electron.mask[good_electrons]\n",
    "    \n",
    "    # select good muons\n",
    "    good_muons = (select_good_muons(events) \n",
    "                & delta_r_mask(events.Muon, electrons, threshold=0.4)\n",
    "    )\n",
    "    muons = events.Muon.mask[good_muons]\n",
    "\n",
    "    # select good taus\n",
    "    good_taus = (select_good_taus(events)\n",
    "                & (delta_r_mask(events.Tau, electrons, threshold=0.4))\n",
    "                & (delta_r_mask(events.Tau, muons, threshold=0.4))\n",
    "    )\n",
    "    taus = events.Tau.mask[good_taus]\n",
    "    \n",
    "    # ------------------\n",
    "    # Fatjets\n",
    "    # -------------------            \n",
    "    # select good Fatjets\n",
    "    good_fatjets = (select_good_Fatjets(events.FatJet, \"2027\" + \"\", working_point=pNet_id_top)\n",
    "                    & (delta_r_mask(events.FatJet, electrons, threshold=0.4))\n",
    "                    & (delta_r_mask(events.FatJet, muons, threshold=0.4))\n",
    "    )\n",
    "    fatjets = events.FatJet.mask[good_fatjets]\n",
    "\n",
    "    # select good W jets\n",
    "    good_wjets = (select_good_Wjets(events.FatJet, \"2027\" + \"\", working_point=pNet_id_w)\n",
    "                    & (delta_r_mask(events.FatJet, electrons, threshold=0.4))\n",
    "                    & (delta_r_mask(events.FatJet, muons, threshold=0.4))\n",
    "                    & (delta_r_mask(events.FatJet, fatjets, threshold=0.8))\n",
    "                 )\n",
    "    wjets = events.FatJet.mask[good_wjets]"
   ]
  },
  {
   "cell_type": "code",
   "execution_count": null,
   "id": "5f4edca0-ba98-4fbc-bdb1-59369b8f3a9a",
   "metadata": {},
   "outputs": [],
   "source": []
  },
  {
   "cell_type": "code",
   "execution_count": null,
   "id": "2f11b498-9929-41c4-9074-ab20601d754a",
   "metadata": {},
   "outputs": [],
   "source": []
  }
 ],
 "metadata": {
  "kernelspec": {
   "display_name": "Python 3 (ipykernel)",
   "language": "python",
   "name": "python3"
  },
  "language_info": {
   "codemirror_mode": {
    "name": "ipython",
    "version": 3
   },
   "file_extension": ".py",
   "mimetype": "text/x-python",
   "name": "python",
   "nbconvert_exporter": "python",
   "pygments_lexer": "ipython3",
   "version": "3.8.16"
  }
 },
 "nbformat": 4,
 "nbformat_minor": 5
}
