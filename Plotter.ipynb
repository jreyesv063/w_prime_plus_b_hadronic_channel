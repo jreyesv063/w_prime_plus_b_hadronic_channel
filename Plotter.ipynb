{
 "cells": [
  {
   "cell_type": "code",
   "execution_count": 1,
   "id": "7b81fe7c-0713-401d-b101-d751c32149a4",
   "metadata": {
    "tags": []
   },
   "outputs": [],
   "source": [
    "import json\n",
    "from pathlib import Path\n",
    "\n",
    "import glob\n",
    "\n",
    "import pickle\n",
    "from coffea import processor\n",
    "\n",
    "\n",
    "import numpy as np\n",
    "import pandas as pd\n",
    "\n",
    "\n",
    "import hist\n",
    "import matplotlib.pyplot as plt\n",
    "\n",
    "\n",
    "import pandas as pd"
   ]
  },
  {
   "cell_type": "code",
   "execution_count": 65,
   "id": "a0142f23-788f-47fa-80eb-abb20e292fe7",
   "metadata": {
    "tags": []
   },
   "outputs": [
    {
     "data": {
      "text/html": [
       "<html>\n",
       "<div style=\"display:flex; align-items:center;\">\n",
       "<div style=\"width:290px;\">\n",
       "<svg xmlns=\"http://www.w3.org/2000/svg\" viewBox=\"-10 -105 270 120\">\n",
       "<line x1=\"-5\" y1=\"0\" x2=\"255\" y2=\"0\" style=\"fill:none;stroke-width:2;stroke:currentColor\"/>\n",
       "<text text-anchor=\"middle\" x=\"0\" y=\"15\" style=\"fill:currentColor;\">\n",
       "120\n",
       "</text>\n",
       "<text text-anchor=\"middle\" x=\"250\" y=\"15\" style=\"fill:currentColor;\">\n",
       "220\n",
       "</text>\n",
       "<text text-anchor=\"middle\" x=\"125.0\" y=\"15\" style=\"fill:currentColor;\">\n",
       "top_mrec\n",
       "</text>\n",
       "<polyline points=\"  0,0   0,-0  25,-0  25,-0  50,-0  50,-0  75,-0  75,-100 100,-100 100,-0 125,-0 125,-46 150,-46 150,-75.4 175,-75.4 175,-85.5 200,-85.5 200,-0 225,-0 225,-65 250,-65 250,0\" style=\"fill:none; stroke:currentColor;\"/>\n",
       "</svg>\n",
       "</div>\n",
       "<div style=\"flex=grow:1;\">\n",
       "Variable([120, 130, 140, 150, 160, 170, 180, 190, 200, 210, 220], name='top_mrec')<br/>\n",
       "<hr style=\"margin-top:.2em; margin-bottom:.2em;\"/>\n",
       "Weight() Σ=WeightedSum(value=6687.01, variance=436200) <em>(WeightedSum(value=540630, variance=3.7026e+07) with flow)</em>\n",
       "\n",
       "</div>\n",
       "</div>\n",
       "</html>"
      ],
      "text/plain": [
       "Hist(Variable([120, 130, 140, 150, 160, 170, 180, 190, 200, 210, 220], name='top_mrec'), storage=Weight()) # Sum: WeightedSum(value=6687.01, variance=436200) (WeightedSum(value=540630, variance=3.7026e+07) with flow)"
      ]
     },
     "execution_count": 65,
     "metadata": {},
     "output_type": "execute_result"
    }
   ],
   "source": [
    "import pickle\n",
    "\n",
    "with open('outfiles/tt_CR/ttbar_h/2023-09-14/2017/TTTo2L2Nu_1.pkl', 'rb') as file:\n",
    "    data = pickle.load(file)\n",
    "    \n",
    "data['histograms']['top_mass'].project(\"top_mrec\")#['tau_kin'].project(\"tau_phi\")"
   ]
  },
  {
   "cell_type": "code",
   "execution_count": 45,
   "id": "98b1e83b-b579-4a9a-b06b-bdfb96dd7606",
   "metadata": {
    "tags": []
   },
   "outputs": [],
   "source": [
    "# load cross sections\n",
    "with open(f\"wprime_plus_b/data/DAS_xsec.json\", \"r\") as f:\n",
    "    xsecs = json.load(f)\n",
    "    \n",
    "# define luminosity\n",
    "lumi = 4147.7877399\n",
    "\n",
    "output_directory = f\"outfiles/tt_CR/ttbar_h/2023-09-14/2017/\""
   ]
  },
  {
   "cell_type": "code",
   "execution_count": 7,
   "id": "c36c3bfd-bf0f-494b-aec1-a2029bc76d43",
   "metadata": {
    "tags": []
   },
   "outputs": [],
   "source": [
    "def group_outputs(output_directory: str) -> dict:\n",
    "    \"\"\"group output .pkl files by sample\"\"\"\n",
    "    output_files = glob.glob(f\"{output_directory}/*.pkl\", recursive=True)\n",
    "    grouped_outputs = {}\n",
    "    for output_file in output_files:\n",
    "        # get output file names\n",
    "        sample_name = output_file.split(\"/\")[-1].split(\".pkl\")[0]\n",
    "        if sample_name.rsplit(\"_\")[-1].isdigit():\n",
    "            sample_name = \"_\".join(sample_name.rsplit(\"_\")[:-1])\n",
    "        # append file names to grouped_outputs\n",
    "        if sample_name in grouped_outputs:\n",
    "            grouped_outputs[sample_name].append(output_file)\n",
    "        else:\n",
    "            grouped_outputs[sample_name] = [output_file]\n",
    "            \n",
    "    return grouped_outputs\n",
    "\n",
    "grouped_outputs = group_outputs(output_directory)\n",
    "\n",
    "#print(grouped_outputs)"
   ]
  },
  {
   "cell_type": "code",
   "execution_count": 8,
   "id": "f55a44e5-18a0-4fa9-b7a4-5a2e4a80d708",
   "metadata": {
    "tags": []
   },
   "outputs": [],
   "source": [
    "def open_output(output_fname: str) -> dict:\n",
    "    \"\"\"open .pkl output file\"\"\"\n",
    "    with open(output_fname, \"rb\") as f:\n",
    "        output = pickle.load(f)\n",
    "    return output\n",
    "\n",
    "def accumulate_outputs(grouped_outputs: dict) -> dict:\n",
    "    \"\"\"accumulate output arrays by sample\"\"\"\n",
    "    accumulated_outputs = {}\n",
    "    for sample in grouped_outputs:\n",
    "        accumulated_outputs[sample] = []\n",
    "        for output_fname in grouped_outputs[sample]:\n",
    "            output = open_output(output_fname)\n",
    "            accumulated_outputs[sample].append(output)\n",
    "        accumulated_outputs[sample] = processor.accumulate(accumulated_outputs[sample])\n",
    "    return accumulated_outputs\n",
    "\n",
    "accumulated_outputs = accumulate_outputs(grouped_outputs)\n",
    "#print(accumulated_outputs)"
   ]
  },
  {
   "cell_type": "code",
   "execution_count": 38,
   "id": "872586e0-2b8a-4411-a866-f71b0691c25b",
   "metadata": {
    "tags": []
   },
   "outputs": [
    {
     "name": "stdout",
     "output_type": "stream",
     "text": [
      "Hist(\n",
      "  StrCategory(['SingleTau_3', 'SingleTau_5', 'SingleTau_1', 'SingleTau_4', 'SingleTau_2'], growth=True, name='dataset'),\n",
      "  Variable(array([ 20.,  40.,  60.,  80., 100., 120., 140., 160., 180., 200., 240.,\n",
      "       260., 280., 300., 320., 340., 360., 380., 400., 420., 440., 460.,\n",
      "       480., 500.]), name='tau_pt'),\n",
      "  Regular(24, -2.4, 2.4, name='tau_eta'),\n",
      "  Regular(32, -3.14159, 3.14159, name='tau_phi'),\n",
      "  StrCategory(['nominal'], growth=True, name='variation'),\n",
      "  storage=Weight()) # Sum: WeightedSum(value=562, variance=562) (WeightedSum(value=564, variance=564) with flow)\n"
     ]
    }
   ],
   "source": [
    "mcs_dataset_TT = {\"TTToHadronic\": [], \"TTTo2L2Nu\": [], \"TTToSemiLeptonic\": []}\n",
    "data_dataset = {\"Tau\": []}\n",
    "\n",
    "\n",
    "def build_report(accumulated_outputs: dict, mcs_dataset_TT, mcs_dataset_DY, mcs_dataset_WJ, mcs_dataset_ST, mcs_dataset_VV):\n",
    "    mcs = [\"DYJetsToLL\", \"WJetsToLNu\", \"VV\", \"tt\", \"SingleTop\", \"Higgs\"]\n",
    "    events = {sample: 0 for sample in mcs}\n",
    "    events.update({\"Data\": 0})\n",
    "    errors = events.copy()\n",
    "    \n",
    "    print(accumulated_outputs['SingleTau']['histograms']['tau_kin'])\n",
    "    for key1, sub_dict in accumulated_outputs.items():\n",
    "        for key2, sub_sub_dict in sub_dict.items():\n",
    "            if (\"TTTo\" in key2):\n",
    "                if(\"TTToHadronic\" in key2):\n",
    "                    mcs_dataset_TT['TTToHadronic']['histograms'].append(sub_sub_dict[histo_defined])\n",
    "                elif(\"TTTo2L2Nu\" in key2):\n",
    "                    mcs_dataset_TT['TTTo2L2Nu']['histograms'].append(sub_sub_dict[histo_defined])  \n",
    "                elif(\"TTToSemiLeptonic\" in key2):\n",
    "                    mcs_dataset_TT['TTToSemiLeptonic']['histograms'].append(sub_sub_dict[histo_defined]) \n",
    "                \n",
    "            if (\"SingleTau\" in key2):\n",
    "                data_dataset[\"SingleTau\"]['histograms'].append(sub_sub_dict[histo_defined])\n",
    "                \n",
    "\n",
    "histo_defined = \"tau_pt\"\n",
    "build_report(accumulated_outputs, mcs_dataset_TT, mcs_dataset_DY, mcs_dataset_WJ, mcs_dataset_ST, mcs_dataset_VV)"
   ]
  },
  {
   "cell_type": "code",
   "execution_count": 44,
   "id": "94b25042-ace9-47c7-9466-70fa220b7348",
   "metadata": {
    "tags": []
   },
   "outputs": [
    {
     "data": {
      "text/plain": [
       "Hist(\n",
       "  StrCategory(['SingleTau_3', 'SingleTau_5', 'SingleTau_1', 'SingleTau_4', 'SingleTau_2'], growth=True, name='dataset'),\n",
       "  Variable(array([ 20.,  40.,  60.,  80., 100., 120., 140., 160., 180., 200., 240.,\n",
       "       260., 280., 300., 320., 340., 360., 380., 400., 420., 440., 460.,\n",
       "       480., 500.]), name='tau_pt'),\n",
       "  Regular(24, -2.4, 2.4, name='tau_eta'),\n",
       "  Regular(32, -3.14159, 3.14159, name='tau_phi'),\n",
       "  StrCategory(['nominal'], growth=True, name='variation'),\n",
       "  storage=Weight()) # Sum: WeightedSum(value=562, variance=562) (WeightedSum(value=564, variance=564) with flow)"
      ]
     },
     "execution_count": 44,
     "metadata": {},
     "output_type": "execute_result"
    }
   ],
   "source": [
    "accumulated_outputs['SingleTau']['histograms']['tau_kin']"
   ]
  },
  {
   "cell_type": "code",
   "execution_count": 33,
   "id": "3f516abd-34c3-4c81-a4c2-98b500241ec2",
   "metadata": {
    "tags": []
   },
   "outputs": [
    {
     "ename": "IndexError",
     "evalue": "list index out of range",
     "output_type": "error",
     "traceback": [
      "\u001b[0;31m---------------------------------------------------------------------------\u001b[0m",
      "\u001b[0;31mIndexError\u001b[0m                                Traceback (most recent call last)",
      "Cell \u001b[0;32mIn[33], line 1\u001b[0m\n\u001b[0;32m----> 1\u001b[0m Histos_TTToHadronic \u001b[38;5;241m=\u001b[39m (\u001b[43mmcs_dataset_TT\u001b[49m\u001b[43m[\u001b[49m\u001b[38;5;124;43m'\u001b[39;49m\u001b[38;5;124;43mTTToHadronic\u001b[39;49m\u001b[38;5;124;43m'\u001b[39;49m\u001b[43m]\u001b[49m\u001b[43m[\u001b[49m\u001b[38;5;241;43m0\u001b[39;49m\u001b[43m]\u001b[49m \u001b[38;5;241m+\u001b[39m mcs_dataset_TT[\u001b[38;5;124m'\u001b[39m\u001b[38;5;124mTTToHadronic\u001b[39m\u001b[38;5;124m'\u001b[39m][\u001b[38;5;241m0\u001b[39m] \u001b[38;5;241m+\u001b[39m mcs_dataset_TT[\u001b[38;5;124m'\u001b[39m\u001b[38;5;124mTTToHadronic\u001b[39m\u001b[38;5;124m'\u001b[39m][\u001b[38;5;241m0\u001b[39m] \u001b[38;5;241m+\u001b[39m mcs_dataset_TT[\u001b[38;5;124m'\u001b[39m\u001b[38;5;124mTTToHadronic\u001b[39m\u001b[38;5;124m'\u001b[39m][\u001b[38;5;241m0\u001b[39m]) \u001b[38;5;241m*\u001b[39m lumi \u001b[38;5;241m*\u001b[39m xsecs[\u001b[38;5;124m'\u001b[39m\u001b[38;5;124mTTToHadronic\u001b[39m\u001b[38;5;124m'\u001b[39m][\u001b[38;5;241m0\u001b[39m]\n\u001b[1;32m      2\u001b[0m Histos_TTTo2L2Nu \u001b[38;5;241m=\u001b[39m (mcs_dataset_TT[\u001b[38;5;124m'\u001b[39m\u001b[38;5;124mTTTo2L2Nu\u001b[39m\u001b[38;5;124m'\u001b[39m][\u001b[38;5;241m0\u001b[39m] \u001b[38;5;241m+\u001b[39m mcs_dataset_TT[\u001b[38;5;124m'\u001b[39m\u001b[38;5;124mTTTo2L2Nu\u001b[39m\u001b[38;5;124m'\u001b[39m][\u001b[38;5;241m1\u001b[39m] \u001b[38;5;241m+\u001b[39m mcs_dataset_TT[\u001b[38;5;124m'\u001b[39m\u001b[38;5;124mTTTo2L2Nu\u001b[39m\u001b[38;5;124m'\u001b[39m][\u001b[38;5;241m2\u001b[39m] \u001b[38;5;241m+\u001b[39m mcs_dataset_TT[\u001b[38;5;124m'\u001b[39m\u001b[38;5;124mTTTo2L2Nu\u001b[39m\u001b[38;5;124m'\u001b[39m][\u001b[38;5;241m3\u001b[39m]  \u001b[38;5;241m+\u001b[39m mcs_dataset_TT[\u001b[38;5;124m'\u001b[39m\u001b[38;5;124mTTTo2L2Nu\u001b[39m\u001b[38;5;124m'\u001b[39m][\u001b[38;5;241m4\u001b[39m]) \u001b[38;5;241m*\u001b[39m lumi \u001b[38;5;241m*\u001b[39m xsecs[\u001b[38;5;124m'\u001b[39m\u001b[38;5;124mTTTo2L2Nu\u001b[39m\u001b[38;5;124m'\u001b[39m]\n\u001b[1;32m      3\u001b[0m Histos_TTToSemiLeptonic \u001b[38;5;241m=\u001b[39m (mcs_dataset_TT[\u001b[38;5;124m'\u001b[39m\u001b[38;5;124mTTToSemiLeptonic\u001b[39m\u001b[38;5;124m'\u001b[39m][\u001b[38;5;241m0\u001b[39m] \u001b[38;5;241m+\u001b[39m mcs_dataset_TT[\u001b[38;5;124m'\u001b[39m\u001b[38;5;124mTTToSemiLeptonic\u001b[39m\u001b[38;5;124m'\u001b[39m][\u001b[38;5;241m1\u001b[39m]  \u001b[38;5;241m+\u001b[39m mcs_dataset_TT[\u001b[38;5;124m'\u001b[39m\u001b[38;5;124mTTToSemiLeptonic\u001b[39m\u001b[38;5;124m'\u001b[39m][\u001b[38;5;241m2\u001b[39m]) \u001b[38;5;241m*\u001b[39m lumi \u001b[38;5;241m*\u001b[39m xsecs[\u001b[38;5;124m'\u001b[39m\u001b[38;5;124mTTToSemiLeptonic\u001b[39m\u001b[38;5;124m'\u001b[39m] \n",
      "\u001b[0;31mIndexError\u001b[0m: list index out of range"
     ]
    }
   ],
   "source": [
    "Histos_TTToHadronic = (mcs_dataset_TT['TTToHadronic'][0] + mcs_dataset_TT['TTToHadronic'][0] + mcs_dataset_TT['TTToHadronic'][0] + mcs_dataset_TT['TTToHadronic'][0]) * lumi * xsecs['TTToHadronic'][0]\n",
    "Histos_TTTo2L2Nu = (mcs_dataset_TT['TTTo2L2Nu'][0] + mcs_dataset_TT['TTTo2L2Nu'][1] + mcs_dataset_TT['TTTo2L2Nu'][2] + mcs_dataset_TT['TTTo2L2Nu'][3]  + mcs_dataset_TT['TTTo2L2Nu'][4]) * lumi * xsecs['TTTo2L2Nu']\n",
    "Histos_TTToSemiLeptonic = (mcs_dataset_TT['TTToSemiLeptonic'][0] + mcs_dataset_TT['TTToSemiLeptonic'][1]  + mcs_dataset_TT['TTToSemiLeptonic'][2]) * lumi * xsecs['TTToSemiLeptonic'] \n",
    "\n",
    "\n",
    "Histos_TTToHadronic.plot1d(label = \"tt_Hadronic\")\n",
    "Histos_TTToSemiLeptonic.plot1d(label = \"tt_SemiLeptonic\")\n",
    "Histos_TTTo2L2Nu.plot1d(label = \"tt_2L2Nu\")\n",
    "plt.legend()\n",
    "plt.axvline(173.1, color='r', linestyle='dashed', linewidth=1)\n",
    "plt.title('Top tagger unresolve case \"FatJet\" (TT samples)')\n",
    "plt.ylabel('Events')"
   ]
  },
  {
   "cell_type": "code",
   "execution_count": 13,
   "id": "08ae67dc-ab76-489d-a6c3-f8abad6de9d7",
   "metadata": {
    "tags": []
   },
   "outputs": [
    {
     "ename": "NameError",
     "evalue": "name 'Histos_TTToHadronic' is not defined",
     "output_type": "error",
     "traceback": [
      "\u001b[0;31m---------------------------------------------------------------------------\u001b[0m",
      "\u001b[0;31mNameError\u001b[0m                                 Traceback (most recent call last)",
      "Cell \u001b[0;32mIn[13], line 1\u001b[0m\n\u001b[0;32m----> 1\u001b[0m Hist_tt \u001b[38;5;241m=\u001b[39m \u001b[43mHistos_TTToHadronic\u001b[49m \u001b[38;5;241m+\u001b[39m Histos_TTTo2L2Nu \u001b[38;5;241m+\u001b[39m Histos_TTToSemiLeptonic\n\u001b[1;32m      3\u001b[0m tt_events \u001b[38;5;241m=\u001b[39m Hist_tt\u001b[38;5;241m.\u001b[39msum()\u001b[38;5;241m.\u001b[39mvalue\n\u001b[1;32m      6\u001b[0m Hist_tt\u001b[38;5;241m.\u001b[39mplot1d(label \u001b[38;5;241m=\u001b[39m \u001b[38;5;124m\"\u001b[39m\u001b[38;5;124mtt_full\u001b[39m\u001b[38;5;124m\"\u001b[39m)\n",
      "\u001b[0;31mNameError\u001b[0m: name 'Histos_TTToHadronic' is not defined"
     ]
    }
   ],
   "source": [
    "Hist_tt = Histos_TTToHadronic + Histos_TTTo2L2Nu + Histos_TTToSemiLeptonic\n",
    "\n",
    "tt_events = Hist_tt.sum().value\n",
    "\n",
    "\n",
    "Hist_tt.plot1d(label = \"tt_full\")\n",
    "plt.legend()\n",
    "plt.axvline(173.1, color='r', linestyle='dashed', linewidth=1)\n",
    "plt.title('Top tagger (TT full dataset)')\n",
    "plt.ylabel('Events')"
   ]
  },
  {
   "cell_type": "code",
   "execution_count": 14,
   "id": "5b80510b-e582-4126-bad5-6fafa606d659",
   "metadata": {
    "tags": []
   },
   "outputs": [
    {
     "ename": "IndexError",
     "evalue": "list index out of range",
     "output_type": "error",
     "traceback": [
      "\u001b[0;31m---------------------------------------------------------------------------\u001b[0m",
      "\u001b[0;31mIndexError\u001b[0m                                Traceback (most recent call last)",
      "Cell \u001b[0;32mIn[14], line 2\u001b[0m\n\u001b[1;32m      1\u001b[0m \u001b[38;5;66;03m# Data\u001b[39;00m\n\u001b[0;32m----> 2\u001b[0m Hist_data \u001b[38;5;241m=\u001b[39m \u001b[43mdata_dataset\u001b[49m\u001b[43m[\u001b[49m\u001b[38;5;124;43m\"\u001b[39;49m\u001b[38;5;124;43mTau\u001b[39;49m\u001b[38;5;124;43m\"\u001b[39;49m\u001b[43m]\u001b[49m\u001b[43m[\u001b[49m\u001b[38;5;241;43m0\u001b[39;49m\u001b[43m]\u001b[49m \u001b[38;5;241m+\u001b[39m data_dataset[\u001b[38;5;124m\"\u001b[39m\u001b[38;5;124mTau\u001b[39m\u001b[38;5;124m\"\u001b[39m][\u001b[38;5;241m1\u001b[39m] \u001b[38;5;241m+\u001b[39m data_dataset[\u001b[38;5;124m\"\u001b[39m\u001b[38;5;124mTau\u001b[39m\u001b[38;5;124m\"\u001b[39m][\u001b[38;5;241m2\u001b[39m] \u001b[38;5;241m+\u001b[39m data_dataset[\u001b[38;5;124m\"\u001b[39m\u001b[38;5;124mTau\u001b[39m\u001b[38;5;124m\"\u001b[39m][\u001b[38;5;241m3\u001b[39m] \u001b[38;5;241m+\u001b[39m data_dataset[\u001b[38;5;124m\"\u001b[39m\u001b[38;5;124mTau\u001b[39m\u001b[38;5;124m\"\u001b[39m][\u001b[38;5;241m4\u001b[39m]\n\u001b[1;32m      4\u001b[0m data_events \u001b[38;5;241m=\u001b[39m Hist_data\u001b[38;5;241m.\u001b[39msum()\u001b[38;5;241m.\u001b[39mvalue\n\u001b[1;32m      7\u001b[0m Hist_data\u001b[38;5;241m.\u001b[39mplot1d(label \u001b[38;5;241m=\u001b[39m \u001b[38;5;124m\"\u001b[39m\u001b[38;5;124mData\u001b[39m\u001b[38;5;124m\"\u001b[39m)\n",
      "\u001b[0;31mIndexError\u001b[0m: list index out of range"
     ]
    }
   ],
   "source": [
    "# Data\n",
    "Hist_data = data_dataset[\"Tau\"][0] + data_dataset[\"Tau\"][1] + data_dataset[\"Tau\"][2] + data_dataset[\"Tau\"][3] + data_dataset[\"Tau\"][4]\n",
    "\n",
    "data_events = Hist_data.sum().value\n",
    "\n",
    "\n",
    "Hist_data.plot1d(label = \"Data\")\n",
    "plt.legend()\n",
    "plt.axvline(173.1, color='r', linestyle='dashed', linewidth=1)\n",
    "plt.title('Top tagger (Data)')\n",
    "plt.ylabel('Events')"
   ]
  },
  {
   "cell_type": "code",
   "execution_count": 16,
   "id": "5772768d-157b-47ae-85ed-a395ca5218e0",
   "metadata": {
    "tags": []
   },
   "outputs": [
    {
     "ename": "NameError",
     "evalue": "name 'tt_events' is not defined",
     "output_type": "error",
     "traceback": [
      "\u001b[0;31m---------------------------------------------------------------------------\u001b[0m",
      "\u001b[0;31mNameError\u001b[0m                                 Traceback (most recent call last)",
      "Cell \u001b[0;32mIn[16], line 3\u001b[0m\n\u001b[1;32m      1\u001b[0m \u001b[38;5;66;03m# Superposition\u001b[39;00m\n\u001b[1;32m      2\u001b[0m \u001b[38;5;66;03m# Table\u001b[39;00m\n\u001b[0;32m----> 3\u001b[0m total_events_mc \u001b[38;5;241m=\u001b[39m \u001b[43mtt_events\u001b[49m \u001b[38;5;241m+\u001b[39m dy_events \u001b[38;5;241m+\u001b[39m wj_events \u001b[38;5;241m+\u001b[39m vv_events \u001b[38;5;241m+\u001b[39m st_events \n\u001b[1;32m      5\u001b[0m datos \u001b[38;5;241m=\u001b[39m {\n\u001b[1;32m      6\u001b[0m     \u001b[38;5;124m'\u001b[39m\u001b[38;5;124mBackground\u001b[39m\u001b[38;5;124m'\u001b[39m: [\u001b[38;5;124m'\u001b[39m\u001b[38;5;124mtt\u001b[39m\u001b[38;5;124m'\u001b[39m, \u001b[38;5;124m'\u001b[39m\u001b[38;5;124mTotal Background\u001b[39m\u001b[38;5;124m'\u001b[39m, \u001b[38;5;124m'\u001b[39m\u001b[38;5;124mData\u001b[39m\u001b[38;5;124m'\u001b[39m],\n\u001b[1;32m      7\u001b[0m     \u001b[38;5;124m'\u001b[39m\u001b[38;5;124mNumer of events\u001b[39m\u001b[38;5;124m'\u001b[39m: [tt_events, total_events_mc, data_events],\n\u001b[1;32m      8\u001b[0m     \u001b[38;5;124m'\u001b[39m\u001b[38;5;124m%\u001b[39m\u001b[38;5;124m'\u001b[39m: [((tt_events\u001b[38;5;241m/\u001b[39mtotal_events_mc)\u001b[38;5;241m*\u001b[39m\u001b[38;5;241m100\u001b[39m), ((total_events_mc\u001b[38;5;241m/\u001b[39mtotal_events_mc)\u001b[38;5;241m*\u001b[39m\u001b[38;5;241m100\u001b[39m), \u001b[38;5;124m'\u001b[39m\u001b[38;5;124m...\u001b[39m\u001b[38;5;124m'\u001b[39m]\n\u001b[1;32m      9\u001b[0m }\n\u001b[1;32m     11\u001b[0m df \u001b[38;5;241m=\u001b[39m pd\u001b[38;5;241m.\u001b[39mDataFrame(datos)\n",
      "\u001b[0;31mNameError\u001b[0m: name 'tt_events' is not defined"
     ]
    }
   ],
   "source": [
    "# Superposition\n",
    "# Table\n",
    "total_events_mc = tt_events + dy_events + wj_events + vv_events + st_events \n",
    "\n",
    "datos = {\n",
    "    'Background': ['tt', 'Total Background', 'Data'],\n",
    "    'Numer of events': [tt_events, total_events_mc, data_events],\n",
    "    '%': [((tt_events/total_events_mc)*100), ((total_events_mc/total_events_mc)*100), '...']\n",
    "}\n",
    "\n",
    "df = pd.DataFrame(datos)\n",
    "\n",
    "tabla_sin_indices = df.to_string(index=False)\n",
    "\n",
    "print(tabla_sin_indices)\n",
    "\n",
    "\n",
    "\n",
    "# Plot\n",
    "Hist_tt.plot1d(label = \"tt\")\n",
    "plt.legend()\n",
    "plt.axvline(173.1, color='r', linestyle='dashed', linewidth=1)\n",
    "plt.title('Top tagger')\n",
    "plt.ylabel('Events')"
   ]
  },
  {
   "cell_type": "code",
   "execution_count": null,
   "id": "b0c6c897-337f-4046-8622-a22e74a98310",
   "metadata": {},
   "outputs": [],
   "source": []
  }
 ],
 "metadata": {
  "kernelspec": {
   "display_name": "Python 3 (ipykernel)",
   "language": "python",
   "name": "python3"
  },
  "language_info": {
   "codemirror_mode": {
    "name": "ipython",
    "version": 3
   },
   "file_extension": ".py",
   "mimetype": "text/x-python",
   "name": "python",
   "nbconvert_exporter": "python",
   "pygments_lexer": "ipython3",
   "version": "3.8.16"
  }
 },
 "nbformat": 4,
 "nbformat_minor": 5
}
